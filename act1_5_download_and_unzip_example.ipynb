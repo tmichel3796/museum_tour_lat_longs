{
 "cells": [
  {
   "cell_type": "code",
   "execution_count": 15,
   "id": "55c271c1-01dd-41ee-bf41-6fc455ffc470",
   "metadata": {},
   "outputs": [],
   "source": [
    "import polars as pl\n",
    "import requests\n",
    "from zipfile import ZipFile\n",
    "from glob import glob"
   ]
  },
  {
   "cell_type": "code",
   "execution_count": 2,
   "id": "ae1b2ce3-6412-4a41-80fc-d1d3e1760738",
   "metadata": {},
   "outputs": [
    {
     "name": "stdout",
     "output_type": "stream",
     "text": [
      "Requirement already satisfied: wget in /opt/anaconda3/envs/polars/lib/python3.12/site-packages (3.2)\n",
      "\n",
      "\u001b[1m[\u001b[0m\u001b[34;49mnotice\u001b[0m\u001b[1;39;49m]\u001b[0m\u001b[39;49m A new release of pip is available: \u001b[0m\u001b[31;49m25.0.1\u001b[0m\u001b[39;49m -> \u001b[0m\u001b[32;49m25.2\u001b[0m\n",
      "\u001b[1m[\u001b[0m\u001b[34;49mnotice\u001b[0m\u001b[1;39;49m]\u001b[0m\u001b[39;49m To update, run: \u001b[0m\u001b[32;49mpip install --upgrade pip\u001b[0m\n",
      "Note: you may need to restart the kernel to use updated packages.\n"
     ]
    }
   ],
   "source": [
    "%pip install wget"
   ]
  },
  {
   "cell_type": "code",
   "execution_count": 3,
   "id": "fa98555b-a2ed-4661-b464-ffb168137e57",
   "metadata": {},
   "outputs": [],
   "source": [
    "import wget"
   ]
  },
  {
   "cell_type": "markdown",
   "id": "8f031548-08e9-4f1c-b2c3-74e106bc6237",
   "metadata": {},
   "source": [
    "# How to download and unzip a CSV file\n",
    "\n",
    "1. Get and save the URL,\n",
    "2. Use `requests.get` to get the content,\n",
    "3. Open the content inside of `with` and the `ZipFile` content, and\n",
    "4. Use the `extract` method to unzip the content."
   ]
  },
  {
   "cell_type": "markdown",
   "id": "a7225299-bd44-4f1a-9fb4-f67d91225842",
   "metadata": {},
   "source": [
    "## Example - A smaller City Bile file using `wget`"
   ]
  },
  {
   "cell_type": "code",
   "execution_count": null,
   "id": "72824a2a-c95b-4d7a-9aec-5ba44a8e9a54",
   "metadata": {},
   "outputs": [],
   "source": [
    "glob('data/*')"
   ]
  },
  {
   "cell_type": "markdown",
   "id": "63d89252-116a-4381-80bf-b9efb85f15b4",
   "metadata": {},
   "source": [
    "#### Step 1 - Download the file."
   ]
  },
  {
   "cell_type": "code",
   "execution_count": 13,
   "id": "fb28d142-851d-4930-b29e-e5dc9ca97e6b",
   "metadata": {},
   "outputs": [
    {
     "data": {
      "text/plain": [
       "'data/JC-202507-citibike-tripdata.csv.zip'"
      ]
     },
     "execution_count": 13,
     "metadata": {},
     "output_type": "execute_result"
    }
   ],
   "source": [
    "url = \"https://s3.amazonaws.com/tripdata/JC-202507-citibike-tripdata.csv.zip\"\n",
    "zip_path = r'./data/my_data2.zip'\n",
    "\n",
    "(zip_path :=\n",
    " wget.download(url, out='data')\n",
    ")"
   ]
  },
  {
   "cell_type": "markdown",
   "id": "b382ffcd-fdf8-4375-beb4-4813f3520578",
   "metadata": {},
   "source": [
    "#### Step 2 - Unzip"
   ]
  },
  {
   "cell_type": "code",
   "execution_count": 14,
   "id": "98332da9-fdbc-4b73-ad73-5642f9d45add",
   "metadata": {},
   "outputs": [],
   "source": [
    "with ZipFile(zip_path, 'r') as z:\n",
    "    z.extractall(\"./data\")"
   ]
  },
  {
   "cell_type": "code",
   "execution_count": null,
   "id": "b08b4a98-f04e-4f63-9b3c-92f58fc08eb8",
   "metadata": {},
   "outputs": [],
   "source": [
    "glob('data/*')"
   ]
  }
 ],
 "metadata": {
  "kernelspec": {
   "display_name": "Python 3 (ipykernel)",
   "language": "python",
   "name": "python3"
  },
  "language_info": {
   "codemirror_mode": {
    "name": "ipython",
    "version": 3
   },
   "file_extension": ".py",
   "mimetype": "text/x-python",
   "name": "python",
   "nbconvert_exporter": "python",
   "pygments_lexer": "ipython3",
   "version": "3.12.11"
  }
 },
 "nbformat": 4,
 "nbformat_minor": 5
}
